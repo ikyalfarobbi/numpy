{
 "cells": [
  {
   "cell_type": "markdown",
   "metadata": {},
   "source": [
    "numpy"
   ]
  },
  {
   "cell_type": "code",
   "execution_count": null,
   "metadata": {},
   "outputs": [],
   "source": [
    "import numpy as np\n",
    "\n",
    "# Definisikan matriks 1x1\n",
    "matrix = np.array([[105412]])\n",
    "\n",
    "# Perkalian Matriks\n",
    "multiplication = np.dot(matrix, matrix)\n",
    "print(\"Perkalian Matriks:\")\n",
    "print(multiplication)\n",
    "\n",
    "# Pengurangan Matriks\n",
    "subtraction = matrix - matrix\n",
    "print(\"\\nPengurangan Matriks:\")\n",
    "print(subtraction)\n",
    "\n",
    "# Transpose Matriks\n",
    "transpose = np.transpose(matrix)\n",
    "print(\"\\nTranspose Matriks:\")\n",
    "print(transpose)\n",
    "\n",
    "# Nilai Invers\n",
    "inverse = np.linalg.inv(matrix)\n",
    "print(\"\\nNilai Invers:\")\n",
    "print(inverse)\n",
    "\n",
    "# Nilai Determinan\n",
    "determinant = np.linalg.det(matrix)\n",
    "print(\"\\nNilai Determinan:\")\n",
    "print(determinant)\n"
   ]
  }
 ],
 "metadata": {
  "kernelspec": {
   "display_name": "Python 3",
   "language": "python",
   "name": "python3"
  },
  "language_info": {
   "name": "python",
   "version": "3.12.2"
  }
 },
 "nbformat": 4,
 "nbformat_minor": 2
}
